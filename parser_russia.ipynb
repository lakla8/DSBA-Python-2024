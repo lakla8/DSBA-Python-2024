{
 "cells": [
  {
   "cell_type": "code",
   "execution_count": 3,
   "id": "47797549-d44f-4048-ba10-d367148e53dd",
   "metadata": {},
   "outputs": [
    {
     "data": {
      "application/javascript": [
       "\n",
       "        setTimeout(function() {\n",
       "            var nbb_cell_id = 3;\n",
       "            var nbb_formatted_code = \"%load_ext nb_black\";\n",
       "            var nbb_cells = Jupyter.notebook.get_cells();\n",
       "            for (var i = 0; i < nbb_cells.length; ++i) {\n",
       "                if (nbb_cells[i].input_prompt_number == nbb_cell_id) {\n",
       "                    nbb_cells[i].set_text(nbb_formatted_code);\n",
       "                    break;\n",
       "                }\n",
       "            }\n",
       "        }, 500);\n",
       "        "
      ],
      "text/plain": [
       "<IPython.core.display.Javascript object>"
      ]
     },
     "metadata": {},
     "output_type": "display_data"
    }
   ],
   "source": [
    "%load_ext nb_black"
   ]
  },
  {
   "cell_type": "code",
   "execution_count": 8,
   "id": "090cd7e4-5c68-486f-b566-b73587a8999f",
   "metadata": {},
   "outputs": [],
   "source": [
    "from parser import get_lyrics_for_song \n",
    "from database import Song"
   ]
  },
  {
   "cell_type": "code",
   "execution_count": 9,
   "id": "5c62763f-5ad3-44c6-9fea-d76cac06b5e3",
   "metadata": {},
   "outputs": [],
   "source": [
    "import pandas as pd"
   ]
  },
  {
   "cell_type": "code",
   "execution_count": 11,
   "id": "9a5ad48a-a45c-4205-b83e-ccfe83392ba8",
   "metadata": {
    "scrolled": true
   },
   "outputs": [
    {
     "data": {
      "text/html": [
       "<div>\n",
       "<style scoped>\n",
       "    .dataframe tbody tr th:only-of-type {\n",
       "        vertical-align: middle;\n",
       "    }\n",
       "\n",
       "    .dataframe tbody tr th {\n",
       "        vertical-align: top;\n",
       "    }\n",
       "\n",
       "    .dataframe thead th {\n",
       "        text-align: right;\n",
       "    }\n",
       "</style>\n",
       "<table border=\"1\" class=\"dataframe\">\n",
       "  <thead>\n",
       "    <tr style=\"text-align: right;\">\n",
       "      <th></th>\n",
       "      <th>track</th>\n",
       "      <th>track_len</th>\n",
       "      <th>link</th>\n",
       "      <th>genre</th>\n",
       "      <th>artist</th>\n",
       "      <th>chart</th>\n",
       "      <th>Explicit_content</th>\n",
       "      <th>monthly_listens_total</th>\n",
       "      <th>artists_likes_total</th>\n",
       "    </tr>\n",
       "  </thead>\n",
       "  <tbody>\n",
       "    <tr>\n",
       "      <th>0</th>\n",
       "      <td>Царица</td>\n",
       "      <td>3:35</td>\n",
       "      <td>https://music.yandex.ru//album/26605629/track/...</td>\n",
       "      <td>русская поп-музыка</td>\n",
       "      <td>['ANNA ASTI']</td>\n",
       "      <td>1</td>\n",
       "      <td>0</td>\n",
       "      <td>4847753</td>\n",
       "      <td>2120528</td>\n",
       "    </tr>\n",
       "    <tr>\n",
       "      <th>1</th>\n",
       "      <td>Плохая Девочка</td>\n",
       "      <td>2:15</td>\n",
       "      <td>https://music.yandex.ru//album/26697445/track/...</td>\n",
       "      <td>русский рэп</td>\n",
       "      <td>['Винтаж', 'ТРАВМА', 'SKIDRI', 'DVRKLXGHT']</td>\n",
       "      <td>2</td>\n",
       "      <td>0</td>\n",
       "      <td>16677658</td>\n",
       "      <td>417013</td>\n",
       "    </tr>\n",
       "    <tr>\n",
       "      <th>2</th>\n",
       "      <td>Я плачу</td>\n",
       "      <td>1:54</td>\n",
       "      <td>https://music.yandex.ru//album/26607707/track/...</td>\n",
       "      <td>русская поп-музыка</td>\n",
       "      <td>['A.V.G']</td>\n",
       "      <td>3</td>\n",
       "      <td>0</td>\n",
       "      <td>4406023</td>\n",
       "      <td>287295</td>\n",
       "    </tr>\n",
       "    <tr>\n",
       "      <th>3</th>\n",
       "      <td>ASPHALT 8</td>\n",
       "      <td>2:15</td>\n",
       "      <td>https://music.yandex.ru//album/25361122/track/...</td>\n",
       "      <td>русский рэп</td>\n",
       "      <td>['MACAN']</td>\n",
       "      <td>4</td>\n",
       "      <td>0</td>\n",
       "      <td>5149399</td>\n",
       "      <td>2359899</td>\n",
       "    </tr>\n",
       "    <tr>\n",
       "      <th>4</th>\n",
       "      <td>Где прошла ты</td>\n",
       "      <td>2:48</td>\n",
       "      <td>https://music.yandex.ru//album/25163882/track/...</td>\n",
       "      <td>русский рэп</td>\n",
       "      <td>['Кравц', 'Гио Пика']</td>\n",
       "      <td>5</td>\n",
       "      <td>0</td>\n",
       "      <td>9058111</td>\n",
       "      <td>1509523</td>\n",
       "    </tr>\n",
       "  </tbody>\n",
       "</table>\n",
       "</div>"
      ],
      "text/plain": [
       "            track track_len  \\\n",
       "0          Царица      3:35   \n",
       "1  Плохая Девочка      2:15   \n",
       "2         Я плачу      1:54   \n",
       "3       ASPHALT 8      2:15   \n",
       "4   Где прошла ты      2:48   \n",
       "\n",
       "                                                link               genre  \\\n",
       "0  https://music.yandex.ru//album/26605629/track/...  русская поп-музыка   \n",
       "1  https://music.yandex.ru//album/26697445/track/...         русский рэп   \n",
       "2  https://music.yandex.ru//album/26607707/track/...  русская поп-музыка   \n",
       "3  https://music.yandex.ru//album/25361122/track/...         русский рэп   \n",
       "4  https://music.yandex.ru//album/25163882/track/...         русский рэп   \n",
       "\n",
       "                                        artist  chart  Explicit_content  \\\n",
       "0                                ['ANNA ASTI']      1                 0   \n",
       "1  ['Винтаж', 'ТРАВМА', 'SKIDRI', 'DVRKLXGHT']      2                 0   \n",
       "2                                    ['A.V.G']      3                 0   \n",
       "3                                    ['MACAN']      4                 0   \n",
       "4                        ['Кравц', 'Гио Пика']      5                 0   \n",
       "\n",
       "   monthly_listens_total  artists_likes_total  \n",
       "0                4847753              2120528  \n",
       "1               16677658               417013  \n",
       "2                4406023               287295  \n",
       "3                5149399              2359899  \n",
       "4                9058111              1509523  "
      ]
     },
     "execution_count": 11,
     "metadata": {},
     "output_type": "execute_result"
    }
   ],
   "source": [
    "df = pd.read_csv('data/yandex_tracks_top100.csv')\n",
    "df.rename(columns={'artist(s)': 'artist', 'name': 'track'}, inplace=True)\n",
    "df.head()"
   ]
  },
  {
   "cell_type": "code",
   "execution_count": 25,
   "id": "08e98f6f-06a2-4548-b7fd-96e78c99add8",
   "metadata": {},
   "outputs": [],
   "source": [
    "x = 3"
   ]
  },
  {
   "cell_type": "code",
   "execution_count": 29,
   "id": "8a407bec-5cf9-4611-b84f-9799a66584d3",
   "metadata": {},
   "outputs": [
    {
     "data": {
      "text/plain": [
       "18.0001"
      ]
     },
     "execution_count": 29,
     "metadata": {},
     "output_type": "execute_result"
    }
   ],
   "source": [
    "eval('x + 15.0001')"
   ]
  },
  {
   "cell_type": "code",
   "execution_count": 5,
   "id": "6a3f01e0-417a-4d21-a86f-f3593b0f3717",
   "metadata": {},
   "outputs": [
    {
     "data": {
      "text/plain": [
       "artist(s)\n",
       "1    71\n",
       "2    20\n",
       "3     4\n",
       "4     3\n",
       "0     1\n",
       "5     1\n",
       "Name: count, dtype: int64"
      ]
     },
     "execution_count": 5,
     "metadata": {},
     "output_type": "execute_result"
    },
    {
     "data": {
      "application/javascript": [
       "\n",
       "        setTimeout(function() {\n",
       "            var nbb_cell_id = 5;\n",
       "            var nbb_formatted_code = \"df[\\\"artist(s)\\\"].apply(lambda x: len(eval(x))).value_counts()\";\n",
       "            var nbb_cells = Jupyter.notebook.get_cells();\n",
       "            for (var i = 0; i < nbb_cells.length; ++i) {\n",
       "                if (nbb_cells[i].input_prompt_number == nbb_cell_id) {\n",
       "                    nbb_cells[i].set_text(nbb_formatted_code);\n",
       "                    break;\n",
       "                }\n",
       "            }\n",
       "        }, 500);\n",
       "        "
      ],
      "text/plain": [
       "<IPython.core.display.Javascript object>"
      ]
     },
     "metadata": {},
     "output_type": "display_data"
    }
   ],
   "source": [
    "df['artist(s)'].apply(lambda x: len(eval(x))).value_counts()"
   ]
  },
  {
   "cell_type": "code",
   "execution_count": 36,
   "id": "0dcddf60-e0c3-49b1-a607-c26e1ecc1d14",
   "metadata": {},
   "outputs": [],
   "source": [
    "import requests\n",
    "import json\n",
    "from bs4 import BeautifulSoup\n",
    "from unidecode import unidecode\n",
    "from tqdm import tqdm"
   ]
  },
  {
   "cell_type": "code",
   "execution_count": 34,
   "id": "7d5f0149-3c59-4df2-9ef0-105da7cfe9ba",
   "metadata": {},
   "outputs": [
    {
     "data": {
      "text/plain": [
       "'ASPHALT 8'"
      ]
     },
     "execution_count": 34,
     "metadata": {},
     "output_type": "execute_result"
    },
    {
     "data": {
      "application/javascript": [
       "\n",
       "        setTimeout(function() {\n",
       "            var nbb_cell_id = 34;\n",
       "            var nbb_formatted_code = \"unidecode(\\\"ASPHALT 8\\\")\";\n",
       "            var nbb_cells = Jupyter.notebook.get_cells();\n",
       "            for (var i = 0; i < nbb_cells.length; ++i) {\n",
       "                if (nbb_cells[i].input_prompt_number == nbb_cell_id) {\n",
       "                    nbb_cells[i].set_text(nbb_formatted_code);\n",
       "                    break;\n",
       "                }\n",
       "            }\n",
       "        }, 500);\n",
       "        "
      ],
      "text/plain": [
       "<IPython.core.display.Javascript object>"
      ]
     },
     "metadata": {},
     "output_type": "display_data"
    }
   ],
   "source": [
    "unidecode('ASPHALT 8') "
   ]
  },
  {
   "cell_type": "code",
   "execution_count": 38,
   "id": "1b7e20e2-0069-421f-89c0-8e7a4cc26454",
   "metadata": {},
   "outputs": [],
   "source": [
    "def get_lyrics_for_song(artist: str, track: str, BASE_URL_LYRICS: str = \"https://www.musixmatch.com/lyrics/{}/{}\") -> list[str] | AttributeError:\n",
    "    headers = {'User-Agent': 'Mozilla/5.0 (Windows NT 10.0; Win64; x64) AppleWebKit/537.36 (KHTML, like Gecko) Chrome/102.0.0.0 Safari/537.36'}\n",
    "    response = requests.get(BASE_URL_LYRICS.format('-'.join(artist.split()), '-'.join(track.split())), headers=headers)\n",
    "    if response.status_code != 200:\n",
    "        print(f'haha {response.status_code}')\n",
    "        return ''\n",
    "\n",
    "    soup = BeautifulSoup(response.content, \"html.parser\")\n",
    "    print(soup.find_all('class=\"css-175oi2r r-13awgt0\"'))\n",
    "    soup = soup.find(\"div\", {\"css-175oi2r r-zd98yo\": \"true\"})\n",
    "    print(soup)\n",
    "    lyrics = []\n",
    "    for elem in soup:\n",
    "        if line := elem.next_element.text.strip():\n",
    "            lyrics.append(line)\n",
    "    print(lyrics[0])\n",
    "    try:\n",
    "        return '\\n'.join(lyrics)\n",
    "    except AttributeError as err:\n",
    "        return ''\n",
    "\n",
    "\n"
   ]
  },
  {
   "cell_type": "code",
   "execution_count": 48,
   "id": "1124112d-65f9-4e70-bd85-ec30d1507be8",
   "metadata": {},
   "outputs": [],
   "source": [
    "API_KEY = '5e8771d5b88f246c0ca497d672868d0b'\n",
    "URL_TRACK_ID = \"https://api.musixmatch.com/ws/1.1/track.search\"\n",
    "URL_TRACK_LYRICS = \"https://api.musixmatch.com/ws/1.1/track.lyrics.get\""
   ]
  },
  {
   "cell_type": "code",
   "execution_count": 87,
   "id": "92bfcb53-c020-4675-9202-de478e664fb4",
   "metadata": {},
   "outputs": [
    {
     "name": "stdout",
     "output_type": "stream",
     "text": [
      "161078084\n",
      "200\n"
     ]
    },
    {
     "data": {
      "text/plain": [
       "['Все твои романы — тяжёлый вид спорта',\n",
       " 'Каждый бывший выводил из зоны комфорта',\n",
       " 'Каждый бывший — тренер личностного роста',\n",
       " 'Ты стала хитрее, детка стала взрослой',\n",
       " '',\n",
       " 'И на этой дискотеке ты не плачешь под утро',\n",
       " 'Под любимые треки, маскируя тушь пудрой',\n",
       " 'Своё сердце обточила в острые, как нож, грани',\n",
       " 'И оно превратилось в драгоценный, но камень',\n",
       " '',\n",
       " 'Теперь он пьяный по твоей вине',\n",
       " 'Царица, царица',\n",
       " 'Один лишь взгляд, и лютый холод по спине',\n",
       " 'Он просто не может в тебе не раствориться',\n",
       " '',\n",
       " 'Мальчик поплыл, мальчик попал',\n",
       " 'А как он стесняется, а как он целуется',\n",
       " 'Мальчик поплыл прям в центре зала',\n",
       " 'Пусть он танцует, пока танцуется',\n",
       " '',\n",
       " '...',\n",
       " '',\n",
       " '******* This Lyrics is NOT for Commercial use *******']"
      ]
     },
     "execution_count": 87,
     "metadata": {},
     "output_type": "execute_result"
    }
   ],
   "source": [
    "get_lyrics_from_api('ANNA-ASTI', 'Царица')"
   ]
  },
  {
   "cell_type": "code",
   "execution_count": 86,
   "id": "d8b6ce65-1a06-4535-8ec8-e91fe437c282",
   "metadata": {},
   "outputs": [],
   "source": [
    "def get_lyrics_from_api(artist: str, track: str):\n",
    "    params_track = {\"q_track\": track, 'q_artist': artist, 'apikey': API_KEY}\n",
    "    response = requests.get(URL_TRACK_ID, params=params_track).json()\n",
    "    track_id = response['message']['body']['track_list'][0]['track']['commontrack_id']\n",
    "    print(track_id)\n",
    "    params_lyrics = {'commontrack_id': track_id, 'apikey': API_KEY}\n",
    "    response_lyrics = requests.get(URL_TRACK_LYRICS, params=params_lyrics)\n",
    "    print(response_lyrics.status_code)\n",
    "    if response_lyrics.status_code != 200:\n",
    "        print('wtf')\n",
    "        return ''\n",
    "    response_lyrics = response_lyrics.json()\n",
    "    return response_lyrics['message']['body']['lyrics']['lyrics_body'].split('\\n')"
   ]
  },
  {
   "cell_type": "code",
   "execution_count": null,
   "id": "fa63ed79-f994-4d72-a602-10d08912cba7",
   "metadata": {},
   "outputs": [],
   "source": [
    "for index, line in tqdm(df.iterrows()):\n",
    "    df.loc[index, 'lyrics'] = get_lyrics_for_song(eval(line.artist)[0], line.track) if len(eval(line.artist)) == 1 else ''\n",
    "    break\n",
    "    "
   ]
  },
  {
   "cell_type": "code",
   "execution_count": null,
   "id": "5e3709e2-1112-4d75-9152-54a032b1d503",
   "metadata": {},
   "outputs": [],
   "source": [
    "for index, line in tqdm(df.iterrows()):\n",
    "    df.loc[index, 'lyrics'] = get_lyrics_from_api(eval(line.artist)[0], line.track) if len(eval(line.artist)) == 1 else ''\n",
    "    break"
   ]
  }
 ],
 "metadata": {
  "kernelspec": {
   "display_name": "Python 3 (ipykernel)",
   "language": "python",
   "name": "python3"
  },
  "language_info": {
   "codemirror_mode": {
    "name": "ipython",
    "version": 3
   },
   "file_extension": ".py",
   "mimetype": "text/x-python",
   "name": "python",
   "nbconvert_exporter": "python",
   "pygments_lexer": "ipython3",
   "version": "3.12.0"
  }
 },
 "nbformat": 4,
 "nbformat_minor": 5
}
